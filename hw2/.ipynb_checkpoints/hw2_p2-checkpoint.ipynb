{
 "cells": [
  {
   "cell_type": "code",
   "execution_count": 1,
   "metadata": {
    "collapsed": true
   },
   "outputs": [],
   "source": [
    "import numpy as np\n",
    "import pandas as pd\n",
    "import tensorflow as tf\n",
    "\n",
    "%matplotlib inline\n",
    "import matplotlib\n",
    "import matplotlib.pyplot as plt\n",
    "\n",
    "import pymesh\n",
    "from pyntcloud import PyntCloud"
   ]
  },
  {
   "cell_type": "code",
   "execution_count": 2,
   "metadata": {
    "collapsed": true
   },
   "outputs": [],
   "source": [
    "# compute triangle mesh surface area\n",
    "def triangle_area(x):\n",
    "    a = x[:,0,:] - x[:,1,:]\n",
    "    b = x[:,0,:] - x[:,2,:]\n",
    "    cross = np.cross(a, b)\n",
    "    area = 0.5 * np.linalg.norm(np.cross(a, b), axis=1)\n",
    "    return area\n",
    "\n",
    "# compute euclidean distance matrix\n",
    "def euclidean_distance_matrix(x):\n",
    "    r = np.sum(x*x, 1)\n",
    "    r = r.reshape(-1, 1)\n",
    "    distance_mat = r - 2*np.dot(x, x.T) + r.T\n",
    "    #return np.sqrt(distance_mat)\n",
    "    return distance_mat\n",
    "\n",
    "# update distance matrix and select the farthest point from set S after a new point is selected\n",
    "def update_farthest_distance(far_mat, dist_mat, s):\n",
    "    for i in range(far_mat.shape[0]):\n",
    "        far_mat[i] = dist_mat[i,s] if far_mat[i] > dist_mat[i,s] else far_mat[i]\n",
    "    return far_mat, np.argmax(far_mat)\n",
    "\n",
    "# initialize matrix to keep track of distance from set s\n",
    "def init_farthest_distance(far_mat, dist_mat, s):\n",
    "    for i in range(far_mat.shape[0]):\n",
    "        far_mat[i] = dist_mat[i,s]\n",
    "    return far_mat"
   ]
  },
  {
   "cell_type": "code",
   "execution_count": 3,
   "metadata": {
    "collapsed": true
   },
   "outputs": [],
   "source": [
    "# get sample from farthest point on every iteration\n",
    "def farthest_point_sampling(obj_file, num_samples=1000):\n",
    "    mesh = pymesh.load_mesh(obj_file)\n",
    "    faces = mesh.vertices[mesh.faces]\n",
    "    area = triangle_area(faces)\n",
    "    total_area = np.sum(area)\n",
    "    \n",
    "    set_P = []\n",
    "    for i in range(faces.shape[0]):\n",
    "        num_gen = area[i] / total_area * 10000\n",
    "        for j in range(int(num_gen)+1):\n",
    "            r1, r2 = np.random.rand(2)\n",
    "            d = (1-np.sqrt(r1)) * faces[i,0] + np.sqrt(r1)*(1-r2) * faces[i,1] + np.sqrt(r1)*r2 * faces[i,2]\n",
    "            set_P.append(d)\n",
    "\n",
    "    set_P = np.array(set_P)\n",
    "    num_P = set_P.shape[0]\n",
    "    \n",
    "    distance_mat = euclidean_distance_matrix(set_P)\n",
    "    \n",
    "    set_S = []\n",
    "    s = np.random.randint(num_P)\n",
    "    far_mat = init_farthest_distance(np.zeros((num_P)), distance_mat, s)\n",
    "\n",
    "    for i in range(num_samples):\n",
    "        set_S.append(set_P[s])\n",
    "        far_mat, s = update_farthest_distance(far_mat, distance_mat, s)\n",
    "    \n",
    "    return np.array(set_S)"
   ]
  },
  {
   "cell_type": "code",
   "execution_count": 4,
   "metadata": {
    "collapsed": true
   },
   "outputs": [],
   "source": [
    "teapot_pts = farthest_point_sampling('teapot.obj')"
   ]
  },
  {
   "cell_type": "code",
   "execution_count": 5,
   "metadata": {},
   "outputs": [
    {
     "data": {
      "text/html": [
       "\n",
       "        <iframe\n",
       "            width=\"800\"\n",
       "            height=\"500\"\n",
       "            src=\"pyntcloud_plot.html\"\n",
       "            frameborder=\"0\"\n",
       "            allowfullscreen\n",
       "        ></iframe>\n",
       "        "
      ],
      "text/plain": [
       "<IPython.lib.display.IFrame at 0x7fc5efb855f8>"
      ]
     },
     "execution_count": 5,
     "metadata": {},
     "output_type": "execute_result"
    }
   ],
   "source": [
    "points = pd.DataFrame(teapot_pts, columns=['x', 'y', 'z'])\n",
    "cloud = PyntCloud(points)\n",
    "cloud.plot(line_color='')"
   ]
  },
  {
   "cell_type": "markdown",
   "metadata": {},
   "source": [
    "![teapot](teapot.png)"
   ]
  },
  {
   "cell_type": "code",
   "execution_count": 6,
   "metadata": {
    "collapsed": true
   },
   "outputs": [],
   "source": [
    "violin_pts = farthest_point_sampling('violin_case.obj')"
   ]
  },
  {
   "cell_type": "code",
   "execution_count": 7,
   "metadata": {},
   "outputs": [
    {
     "data": {
      "text/html": [
       "\n",
       "        <iframe\n",
       "            width=\"800\"\n",
       "            height=\"500\"\n",
       "            src=\"pyntcloud_plot.html\"\n",
       "            frameborder=\"0\"\n",
       "            allowfullscreen\n",
       "        ></iframe>\n",
       "        "
      ],
      "text/plain": [
       "<IPython.lib.display.IFrame at 0x7fc5ef922630>"
      ]
     },
     "execution_count": 7,
     "metadata": {},
     "output_type": "execute_result"
    }
   ],
   "source": [
    "points = pd.DataFrame(violin_pts, columns=['x', 'y', 'z'])\n",
    "cloud = PyntCloud(points)\n",
    "cloud.plot(line_color='')"
   ]
  },
  {
   "cell_type": "markdown",
   "metadata": {
    "collapsed": true
   },
   "source": [
    "![violin case](violin.png)"
   ]
  },
  {
   "cell_type": "code",
   "execution_count": null,
   "metadata": {
    "collapsed": true
   },
   "outputs": [],
   "source": []
  }
 ],
 "metadata": {
  "kernelspec": {
   "display_name": "Python 3",
   "language": "python",
   "name": "python3"
  },
  "language_info": {
   "codemirror_mode": {
    "name": "ipython",
    "version": 3
   },
   "file_extension": ".py",
   "mimetype": "text/x-python",
   "name": "python",
   "nbconvert_exporter": "python",
   "pygments_lexer": "ipython3",
   "version": "3.5.2"
  }
 },
 "nbformat": 4,
 "nbformat_minor": 2
}
