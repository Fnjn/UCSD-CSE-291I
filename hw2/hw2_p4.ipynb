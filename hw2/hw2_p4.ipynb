{
 "cells": [
  {
   "cell_type": "code",
   "execution_count": 1,
   "metadata": {
    "collapsed": true
   },
   "outputs": [],
   "source": [
    "import numpy as np\n",
    "import tensorflow as tf\n",
    "%matplotlib inline\n",
    "import matplotlib\n",
    "import matplotlib.pyplot as plt"
   ]
  },
  {
   "cell_type": "code",
   "execution_count": 2,
   "metadata": {},
   "outputs": [
    {
     "name": "stdout",
     "output_type": "stream",
     "text": [
      "Extracting MNIST_data/train-images-idx3-ubyte.gz\n",
      "Extracting MNIST_data/train-labels-idx1-ubyte.gz\n",
      "Extracting MNIST_data/t10k-images-idx3-ubyte.gz\n",
      "Extracting MNIST_data/t10k-labels-idx1-ubyte.gz\n",
      "(55000, 784) (55000,)\n"
     ]
    }
   ],
   "source": [
    "from tensorflow.examples.tutorials.mnist import input_data\n",
    "mnist = input_data.read_data_sets(\"MNIST_data/\", one_hot=False)\n",
    "print(mnist.train.images.shape, mnist.train.labels.shape)"
   ]
  },
  {
   "cell_type": "code",
   "execution_count": 3,
   "metadata": {
    "collapsed": true
   },
   "outputs": [],
   "source": [
    "def show_image(image):\n",
    "    plt.gray()\n",
    "    plt.imshow(image.reshape(28, 28))\n",
    "    plt.show()\n",
    "    \n",
    "# add gaussian noise to image -- mean = 0, variance = 0.1\n",
    "def add_noise(image):\n",
    "    mu, sigma = 0, 0.1\n",
    "    gauss = np.random.normal(mu, sigma, 28*28)\n",
    "    return image + gauss"
   ]
  },
  {
   "cell_type": "code",
   "execution_count": 4,
   "metadata": {
    "collapsed": true
   },
   "outputs": [],
   "source": [
    "# This is an encoder\n",
    "# 2 convolutional layers and 1 fully connected layer\n",
    "def encoder(x):\n",
    "    x_image = tf.reshape(x, [-1, 28, 28, 1])\n",
    "    \n",
    "    conv1 = tf.contrib.layers.conv2d(x_image, 16, [3,3], stride=2, padding='VALID')\n",
    "    \n",
    "    conv2 = tf.contrib.layers.conv2d(conv1, 32, [3,3], stride=2, padding='VALID')\n",
    "    \n",
    "    pool2_flat = tf.reshape(conv2, [-1, 6*6*32])\n",
    "    fc = tf.contrib.layers.fully_connected(pool2_flat, 100)\n",
    "    \n",
    "    return fc\n",
    "\n",
    "# This is a decoder -- well commented!\n",
    "# 1 fully connected layer, 2 convolutional layers and 1 fc layer\n",
    "def decoder(x):\n",
    "    fc = tf.contrib.layers.fully_connected(x, 6*6*32)\n",
    "    fc_layer = tf.reshape(fc, [-1, 6, 6, 32])\n",
    "    \n",
    "    deconv1 = tf.contrib.layers.conv2d_transpose(fc_layer, 16, [3,3], stride=2, padding='VALID')\n",
    "    deconv2 = tf.contrib.layers.conv2d_transpose(deconv1, 1, [3,3], stride=2, padding='VALID')\n",
    "    deconv2_flat = tf.reshape(deconv2, [-1, 27*27])\n",
    "    fc = tf.contrib.layers.fully_connected(deconv2_flat, 28*28)\n",
    "    return fc"
   ]
  },
  {
   "cell_type": "code",
   "execution_count": 5,
   "metadata": {
    "collapsed": true
   },
   "outputs": [],
   "source": [
    "with tf.device('/device:GPU:0'):\n",
    "    # noisy image\n",
    "    x = tf.placeholder(tf.float32, shape=[None, 784], name='x')\n",
    "    # origin image (before adding noise)\n",
    "    y = tf.placeholder(tf.float32, shape=[None, 784], name='y')\n",
    "    \n",
    "# reconstruct images\n",
    "pred = decoder(encoder(x))\n",
    "# MSE cost function\n",
    "#compute difference between reconstructed images and imges before adding noise\n",
    "cost = tf.reduce_mean(tf.squared_difference(y, pred))\n",
    "optimizer = tf.train.AdamOptimizer(1e-4).minimize(cost)"
   ]
  },
  {
   "cell_type": "code",
   "execution_count": 6,
   "metadata": {},
   "outputs": [
    {
     "data": {
      "image/png": "[encoded data removed]",
      "text/plain": [
       "<matplotlib.figure.Figure at 0x7f7d96924a90>"
      ]
     },
     "metadata": {},
     "output_type": "display_data"
    },
    {
     "name": "stdout",
     "output_type": "stream",
     "text": [
      "5000 epochs-- train cost: 0.015710    test cost: 0.017580\n"
     ]
    },
    {
     "data": {
      "image/png": "[encoded data removed]",
      "text/plain": [
       "<matplotlib.figure.Figure at 0x7f7d968c5240>"
      ]
     },
     "metadata": {},
     "output_type": "display_data"
    },
    {
     "name": "stdout",
     "output_type": "stream",
     "text": [
      "10000 epochs-- train cost: 0.013543    test cost: 0.005779\n"
     ]
    },
    {
     "data": {
      "image/png": "[encoded data removed]",
      "text/plain": [
       "<matplotlib.figure.Figure at 0x7f7d92fb4f28>"
      ]
     },
     "metadata": {},
     "output_type": "display_data"
    },
    {
     "name": "stdout",
     "output_type": "stream",
     "text": [
      "15000 epochs-- train cost: 0.014058    test cost: 0.006856\n"
     ]
    }
   ],
   "source": [
    "epoch = 15000\n",
    "batch_size = 16\n",
    "config = tf.ConfigProto()\n",
    "config.gpu_options.allow_growth = True\n",
    "\n",
    "sess = tf.Session(config=config)\n",
    "sess.run(tf.global_variables_initializer())\n",
    "    \n",
    "for i in range(epoch):\n",
    "    batch_x, _ = mnist.train.next_batch(batch_size)\n",
    "    _, batch_cost = sess.run([optimizer, cost], feed_dict = {x:add_noise(batch_x), y:batch_x})\n",
    "    \n",
    "    # show reconstructed images after every 5000 iterations of training\n",
    "    if (i+1) % 5000 == 0:\n",
    "        batch_x, _ = mnist.test.next_batch(1)\n",
    "        noise_image = add_noise(batch_x)\n",
    "        gen_image, test_cost = sess.run([pred,cost], feed_dict = {x:noise_image, y:batch_x})\n",
    "        #show_image(noise_image)\n",
    "        show_image(gen_image)\n",
    "        print('%d epochs-- train cost: %f    test cost: %f' % (i+1, batch_cost, test_cost))"
   ]
  },
  {
   "cell_type": "code",
   "execution_count": 7,
   "metadata": {},
   "outputs": [
    {
     "name": "stdout",
     "output_type": "stream",
     "text": [
      "Noisy image\n"
     ]
    },
    {
     "data": {
      "image/png": "[encoded data removed]",
      "text/plain": [
       "<matplotlib.figure.Figure at 0x7f7e0de537b8>"
      ]
     },
     "metadata": {},
     "output_type": "display_data"
    },
    {
     "name": "stdout",
     "output_type": "stream",
     "text": [
      "Generated image\n"
     ]
    },
    {
     "data": {
      "image/png": "[encoded data removed]",
      "text/plain": [
       "<matplotlib.figure.Figure at 0x7f7d92fe6d30>"
      ]
     },
     "metadata": {},
     "output_type": "display_data"
    }
   ],
   "source": [
    "# Testing -- reconstruct images from test set\n",
    "batch_x, _ = mnist.test.next_batch(1)\n",
    "noise_image = add_noise(batch_x)\n",
    "gen_image, test_cost = sess.run([pred,cost], feed_dict = {x:noise_image, y:batch_x})\n",
    "print('Noisy image')\n",
    "show_image(noise_image)\n",
    "print('Generated image')\n",
    "show_image(gen_image)"
   ]
  },
  {
   "cell_type": "code",
   "execution_count": 8,
   "metadata": {},
   "outputs": [
    {
     "name": "stdout",
     "output_type": "stream",
     "text": [
      "Noisy image\n"
     ]
    },
    {
     "data": {
      "image/png": "[encoded data removed]",
      "text/plain": [
       "<matplotlib.figure.Figure at 0x7f7d92f25898>"
      ]
     },
     "metadata": {},
     "output_type": "display_data"
    },
    {
     "name": "stdout",
     "output_type": "stream",
     "text": [
      "Generated image\n"
     ]
    },
    {
     "data": {
      "image/png": "[encoded data removed]",
      "text/plain": [
       "<matplotlib.figure.Figure at 0x7f7d9300bdd8>"
      ]
     },
     "metadata": {},
     "output_type": "display_data"
    }
   ],
   "source": [
    "# Testing -- reconstruct images from test set\n",
    "batch_x, _ = mnist.test.next_batch(1)\n",
    "noise_image = add_noise(batch_x)\n",
    "gen_image, test_cost = sess.run([pred,cost], feed_dict = {x:noise_image, y:batch_x})\n",
    "print('Noisy image')\n",
    "show_image(noise_image)\n",
    "print('Generated image')\n",
    "show_image(gen_image)"
   ]
  },
  {
   "cell_type": "code",
   "execution_count": null,
   "metadata": {
    "collapsed": true
   },
   "outputs": [],
   "source": []
  }
 ],
 "metadata": {
  "kernelspec": {
   "display_name": "Python 3",
   "language": "python",
   "name": "python3"
  },
  "language_info": {
   "codemirror_mode": {
    "name": "ipython",
    "version": 3
   },
   "file_extension": ".py",
   "mimetype": "text/x-python",
   "name": "python",
   "nbconvert_exporter": "python",
   "pygments_lexer": "ipython3",
   "version": "3.5.2"
  }
 },
 "nbformat": 4,
 "nbformat_minor": 2
}
