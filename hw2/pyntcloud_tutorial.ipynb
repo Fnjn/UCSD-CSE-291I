{
 "cells": [
  {
   "cell_type": "code",
   "execution_count": 10,
   "metadata": {
    "collapsed": true
   },
   "outputs": [],
   "source": [
    "%matplotlib inline\n",
    "import numpy as np\n",
    "import pandas as pd\n",
    "from pyntcloud import PyntCloud\n",
    "import pymesh"
   ]
  },
  {
   "cell_type": "code",
   "execution_count": 2,
   "metadata": {
    "collapsed": true
   },
   "outputs": [],
   "source": [
    "positions = np.random.uniform(size=(100, 3)) - 0.5\n",
    "points = pd.DataFrame(positions, columns=['x', 'y', 'z'])\n",
    "\n",
    "colors = (np.random.uniform(size=(100, 3)) * 255).astype(np.uint8)\n",
    "points[['red', 'blue', 'green']] = pd.DataFrame(colors, index=points.index)"
   ]
  },
  {
   "cell_type": "code",
   "execution_count": 3,
   "metadata": {
    "collapsed": true
   },
   "outputs": [],
   "source": [
    "lines = [\n",
    "    [[0, 0, 0], [0, 0, 1]],\n",
    "    [[1, 0, 0], [1, 0, 1], [1, 1, 1]],\n",
    "]"
   ]
  },
  {
   "cell_type": "code",
   "execution_count": 4,
   "metadata": {},
   "outputs": [
    {
     "data": {
      "text/html": [
       "\n",
       "        <iframe\n",
       "            width=\"800\"\n",
       "            height=\"500\"\n",
       "            src=\"pyntcloud_plot.html\"\n",
       "            frameborder=\"0\"\n",
       "            allowfullscreen\n",
       "        ></iframe>\n",
       "        "
      ],
      "text/plain": [
       "<IPython.lib.display.IFrame at 0x7f3da39498d0>"
      ]
     },
     "execution_count": 4,
     "metadata": {},
     "output_type": "execute_result"
    }
   ],
   "source": [
    "cloud = PyntCloud(points)\n",
    "cloud.plot(point_size=0.05, opacity=0.6, \n",
    "           lines=lines, line_color=[0xFFFFFF, 0xFF00FF])"
   ]
  },
  {
   "cell_type": "code",
   "execution_count": 25,
   "metadata": {},
   "outputs": [
    {
     "data": {
      "text/html": [
       "\n",
       "        <iframe\n",
       "            width=\"800\"\n",
       "            height=\"500\"\n",
       "            src=\"pyntcloud_plot.html\"\n",
       "            frameborder=\"0\"\n",
       "            allowfullscreen\n",
       "        ></iframe>\n",
       "        "
      ],
      "text/plain": [
       "<IPython.lib.display.IFrame at 0x7f3da158aa20>"
      ]
     },
     "execution_count": 25,
     "metadata": {},
     "output_type": "execute_result"
    }
   ],
   "source": [
    "points = np.random.rand(1000, 3)\n",
    "points = pd.DataFrame(points, columns=['x', 'y', 'z'])\n",
    "cloud = PyntCloud(points)\n",
    "cloud.plot(line_color='')"
   ]
  },
  {
   "cell_type": "code",
   "execution_count": 12,
   "metadata": {},
   "outputs": [
    {
     "data": {
      "text/html": [
       "<div>\n",
       "<style>\n",
       "    .dataframe thead tr:only-child th {\n",
       "        text-align: right;\n",
       "    }\n",
       "\n",
       "    .dataframe thead th {\n",
       "        text-align: left;\n",
       "    }\n",
       "\n",
       "    .dataframe tbody tr th {\n",
       "        vertical-align: top;\n",
       "    }\n",
       "</style>\n",
       "<table border=\"1\" class=\"dataframe\">\n",
       "  <thead>\n",
       "    <tr style=\"text-align: right;\">\n",
       "      <th></th>\n",
       "      <th>x</th>\n",
       "      <th>y</th>\n",
       "      <th>z</th>\n",
       "    </tr>\n",
       "  </thead>\n",
       "  <tbody>\n",
       "    <tr>\n",
       "      <th>count</th>\n",
       "      <td>1000.000000</td>\n",
       "      <td>1000.000000</td>\n",
       "      <td>1000.000000</td>\n",
       "    </tr>\n",
       "    <tr>\n",
       "      <th>mean</th>\n",
       "      <td>0.486596</td>\n",
       "      <td>0.509432</td>\n",
       "      <td>0.492145</td>\n",
       "    </tr>\n",
       "    <tr>\n",
       "      <th>std</th>\n",
       "      <td>0.289434</td>\n",
       "      <td>0.290013</td>\n",
       "      <td>0.287411</td>\n",
       "    </tr>\n",
       "    <tr>\n",
       "      <th>min</th>\n",
       "      <td>0.001833</td>\n",
       "      <td>0.000522</td>\n",
       "      <td>0.000156</td>\n",
       "    </tr>\n",
       "    <tr>\n",
       "      <th>25%</th>\n",
       "      <td>0.235694</td>\n",
       "      <td>0.267921</td>\n",
       "      <td>0.240603</td>\n",
       "    </tr>\n",
       "    <tr>\n",
       "      <th>50%</th>\n",
       "      <td>0.489338</td>\n",
       "      <td>0.516950</td>\n",
       "      <td>0.506335</td>\n",
       "    </tr>\n",
       "    <tr>\n",
       "      <th>75%</th>\n",
       "      <td>0.741733</td>\n",
       "      <td>0.761070</td>\n",
       "      <td>0.730057</td>\n",
       "    </tr>\n",
       "    <tr>\n",
       "      <th>max</th>\n",
       "      <td>0.999961</td>\n",
       "      <td>0.998850</td>\n",
       "      <td>0.999680</td>\n",
       "    </tr>\n",
       "  </tbody>\n",
       "</table>\n",
       "</div>"
      ],
      "text/plain": [
       "                 x            y            z\n",
       "count  1000.000000  1000.000000  1000.000000\n",
       "mean      0.486596     0.509432     0.492145\n",
       "std       0.289434     0.290013     0.287411\n",
       "min       0.001833     0.000522     0.000156\n",
       "25%       0.235694     0.267921     0.240603\n",
       "50%       0.489338     0.516950     0.506335\n",
       "75%       0.741733     0.761070     0.730057\n",
       "max       0.999961     0.998850     0.999680"
      ]
     },
     "execution_count": 12,
     "metadata": {},
     "output_type": "execute_result"
    }
   ],
   "source": [
    "cloud.points.describe()"
   ]
  },
  {
   "cell_type": "code",
   "execution_count": 13,
   "metadata": {},
   "outputs": [
    {
     "data": {
      "text/plain": [
       "<matplotlib.axes._subplots.AxesSubplot at 0x7f3da17dd2e8>"
      ]
     },
     "execution_count": 13,
     "metadata": {},
     "output_type": "execute_result"
    },
    {
     "data": {
      "image/png": "[encoded data removed]",
      "text/plain": [
       "<matplotlib.figure.Figure at 0x7f3da38835c0>"
      ]
     },
     "metadata": {},
     "output_type": "display_data"
    }
   ],
   "source": [
    "cloud.points.boxplot()"
   ]
  },
  {
   "cell_type": "code",
   "execution_count": 14,
   "metadata": {
    "collapsed": true
   },
   "outputs": [],
   "source": [
    "scene = PyntCloud.from_file('visible.ply')"
   ]
  },
  {
   "cell_type": "code",
   "execution_count": 15,
   "metadata": {},
   "outputs": [
    {
     "data": {
      "text/plain": [
       "PyntCloud\n",
       "51777 points with 7 scalar fields\n",
       "99059 faces in mesh\n",
       "0 kdtrees\n",
       "0 voxelgrids\n",
       "Centroid: -17.429340362548828, 7.901965618133545, 5.268535137176514\n",
       "Other attributes:"
      ]
     },
     "execution_count": 15,
     "metadata": {},
     "output_type": "execute_result"
    }
   ],
   "source": [
    "scene"
   ]
  },
  {
   "cell_type": "code",
   "execution_count": 16,
   "metadata": {},
   "outputs": [
    {
     "data": {
      "text/html": [
       "<div>\n",
       "<style>\n",
       "    .dataframe thead tr:only-child th {\n",
       "        text-align: right;\n",
       "    }\n",
       "\n",
       "    .dataframe thead th {\n",
       "        text-align: left;\n",
       "    }\n",
       "\n",
       "    .dataframe tbody tr th {\n",
       "        vertical-align: top;\n",
       "    }\n",
       "</style>\n",
       "<table border=\"1\" class=\"dataframe\">\n",
       "  <thead>\n",
       "    <tr style=\"text-align: right;\">\n",
       "      <th></th>\n",
       "      <th>v1</th>\n",
       "      <th>v2</th>\n",
       "      <th>v3</th>\n",
       "    </tr>\n",
       "  </thead>\n",
       "  <tbody>\n",
       "    <tr>\n",
       "      <th>0</th>\n",
       "      <td>0</td>\n",
       "      <td>2</td>\n",
       "      <td>1</td>\n",
       "    </tr>\n",
       "    <tr>\n",
       "      <th>1</th>\n",
       "      <td>0</td>\n",
       "      <td>3</td>\n",
       "      <td>2</td>\n",
       "    </tr>\n",
       "    <tr>\n",
       "      <th>2</th>\n",
       "      <td>37</td>\n",
       "      <td>83</td>\n",
       "      <td>36</td>\n",
       "    </tr>\n",
       "    <tr>\n",
       "      <th>3</th>\n",
       "      <td>37</td>\n",
       "      <td>38</td>\n",
       "      <td>84</td>\n",
       "    </tr>\n",
       "    <tr>\n",
       "      <th>4</th>\n",
       "      <td>39</td>\n",
       "      <td>84</td>\n",
       "      <td>38</td>\n",
       "    </tr>\n",
       "  </tbody>\n",
       "</table>\n",
       "</div>"
      ],
      "text/plain": [
       "   v1  v2  v3\n",
       "0   0   2   1\n",
       "1   0   3   2\n",
       "2  37  83  36\n",
       "3  37  38  84\n",
       "4  39  84  38"
      ]
     },
     "execution_count": 16,
     "metadata": {},
     "output_type": "execute_result"
    }
   ],
   "source": [
    "scene.mesh.head()"
   ]
  },
  {
   "cell_type": "code",
   "execution_count": 19,
   "metadata": {
    "collapsed": true
   },
   "outputs": [],
   "source": [
    "sampled_points = scene.get_sample('mesh_random_sampling', n=500000, rgb=True, normals=True)\n",
    "scene = PyntCloud(sampled_points)"
   ]
  },
  {
   "cell_type": "code",
   "execution_count": 20,
   "metadata": {},
   "outputs": [
    {
     "data": {
      "text/plain": [
       "PyntCloud\n",
       "500000 points with 6 scalar fields\n",
       "0 faces in mesh\n",
       "0 kdtrees\n",
       "0 voxelgrids\n",
       "Centroid: -10.083793640136719, 0.9527376294136047, 0.39196690917015076\n",
       "Other attributes:"
      ]
     },
     "execution_count": 20,
     "metadata": {},
     "output_type": "execute_result"
    }
   ],
   "source": [
    "scene"
   ]
  },
  {
   "cell_type": "code",
   "execution_count": 21,
   "metadata": {},
   "outputs": [
    {
     "data": {
      "text/html": [
       "<div>\n",
       "<style>\n",
       "    .dataframe thead tr:only-child th {\n",
       "        text-align: right;\n",
       "    }\n",
       "\n",
       "    .dataframe thead th {\n",
       "        text-align: left;\n",
       "    }\n",
       "\n",
       "    .dataframe tbody tr th {\n",
       "        vertical-align: top;\n",
       "    }\n",
       "</style>\n",
       "<table border=\"1\" class=\"dataframe\">\n",
       "  <thead>\n",
       "    <tr style=\"text-align: right;\">\n",
       "      <th></th>\n",
       "      <th>x</th>\n",
       "      <th>y</th>\n",
       "      <th>z</th>\n",
       "      <th>red</th>\n",
       "      <th>green</th>\n",
       "      <th>blue</th>\n",
       "      <th>nx</th>\n",
       "      <th>ny</th>\n",
       "      <th>nz</th>\n",
       "    </tr>\n",
       "  </thead>\n",
       "  <tbody>\n",
       "    <tr>\n",
       "      <th>0</th>\n",
       "      <td>-7.815987</td>\n",
       "      <td>1.294691</td>\n",
       "      <td>0.0</td>\n",
       "      <td>0</td>\n",
       "      <td>28</td>\n",
       "      <td>0</td>\n",
       "      <td>0.0</td>\n",
       "      <td>0.0</td>\n",
       "      <td>1.0</td>\n",
       "    </tr>\n",
       "    <tr>\n",
       "      <th>1</th>\n",
       "      <td>-11.307006</td>\n",
       "      <td>-49.285583</td>\n",
       "      <td>0.0</td>\n",
       "      <td>0</td>\n",
       "      <td>85</td>\n",
       "      <td>0</td>\n",
       "      <td>0.0</td>\n",
       "      <td>0.0</td>\n",
       "      <td>1.0</td>\n",
       "    </tr>\n",
       "    <tr>\n",
       "      <th>2</th>\n",
       "      <td>-24.167963</td>\n",
       "      <td>13.800852</td>\n",
       "      <td>0.0</td>\n",
       "      <td>0</td>\n",
       "      <td>85</td>\n",
       "      <td>0</td>\n",
       "      <td>0.0</td>\n",
       "      <td>0.0</td>\n",
       "      <td>1.0</td>\n",
       "    </tr>\n",
       "    <tr>\n",
       "      <th>3</th>\n",
       "      <td>-13.036241</td>\n",
       "      <td>12.990661</td>\n",
       "      <td>0.0</td>\n",
       "      <td>0</td>\n",
       "      <td>85</td>\n",
       "      <td>0</td>\n",
       "      <td>0.0</td>\n",
       "      <td>0.0</td>\n",
       "      <td>1.0</td>\n",
       "    </tr>\n",
       "    <tr>\n",
       "      <th>4</th>\n",
       "      <td>-15.107207</td>\n",
       "      <td>28.200556</td>\n",
       "      <td>0.0</td>\n",
       "      <td>0</td>\n",
       "      <td>85</td>\n",
       "      <td>0</td>\n",
       "      <td>0.0</td>\n",
       "      <td>0.0</td>\n",
       "      <td>1.0</td>\n",
       "    </tr>\n",
       "  </tbody>\n",
       "</table>\n",
       "</div>"
      ],
      "text/plain": [
       "           x          y    z  red  green  blue   nx   ny   nz\n",
       "0  -7.815987   1.294691  0.0    0     28     0  0.0  0.0  1.0\n",
       "1 -11.307006 -49.285583  0.0    0     85     0  0.0  0.0  1.0\n",
       "2 -24.167963  13.800852  0.0    0     85     0  0.0  0.0  1.0\n",
       "3 -13.036241  12.990661  0.0    0     85     0  0.0  0.0  1.0\n",
       "4 -15.107207  28.200556  0.0    0     85     0  0.0  0.0  1.0"
      ]
     },
     "execution_count": 21,
     "metadata": {},
     "output_type": "execute_result"
    }
   ],
   "source": [
    "scene.points.head()"
   ]
  },
  {
   "cell_type": "code",
   "execution_count": 23,
   "metadata": {},
   "outputs": [
    {
     "data": {
      "text/html": [
       "\n",
       "        <iframe\n",
       "            width=\"800\"\n",
       "            height=\"500\"\n",
       "            src=\"pyntcloud_plot.html\"\n",
       "            frameborder=\"0\"\n",
       "            allowfullscreen\n",
       "        ></iframe>\n",
       "        "
      ],
      "text/plain": [
       "<IPython.lib.display.IFrame at 0x7f3d9e6c3588>"
      ]
     },
     "execution_count": 23,
     "metadata": {},
     "output_type": "execute_result"
    }
   ],
   "source": [
    "scene.plot(line_color='')"
   ]
  },
  {
   "cell_type": "code",
   "execution_count": 26,
   "metadata": {
    "collapsed": true
   },
   "outputs": [],
   "source": [
    "is_floor = scene.add_scalar_field('plane_fit', n_inliers_to_stop=len(scene.points)/30)"
   ]
  },
  {
   "cell_type": "code",
   "execution_count": 27,
   "metadata": {},
   "outputs": [
    {
     "data": {
      "text/html": [
       "<div>\n",
       "<style>\n",
       "    .dataframe thead tr:only-child th {\n",
       "        text-align: right;\n",
       "    }\n",
       "\n",
       "    .dataframe thead th {\n",
       "        text-align: left;\n",
       "    }\n",
       "\n",
       "    .dataframe tbody tr th {\n",
       "        vertical-align: top;\n",
       "    }\n",
       "</style>\n",
       "<table border=\"1\" class=\"dataframe\">\n",
       "  <thead>\n",
       "    <tr style=\"text-align: right;\">\n",
       "      <th></th>\n",
       "      <th>x</th>\n",
       "      <th>y</th>\n",
       "      <th>z</th>\n",
       "      <th>red</th>\n",
       "      <th>green</th>\n",
       "      <th>blue</th>\n",
       "      <th>nx</th>\n",
       "      <th>ny</th>\n",
       "      <th>nz</th>\n",
       "      <th>is_plane</th>\n",
       "    </tr>\n",
       "  </thead>\n",
       "  <tbody>\n",
       "    <tr>\n",
       "      <th>0</th>\n",
       "      <td>-7.815987</td>\n",
       "      <td>1.294691</td>\n",
       "      <td>0.0</td>\n",
       "      <td>0</td>\n",
       "      <td>28</td>\n",
       "      <td>0</td>\n",
       "      <td>0.0</td>\n",
       "      <td>0.0</td>\n",
       "      <td>1.0</td>\n",
       "      <td>1</td>\n",
       "    </tr>\n",
       "    <tr>\n",
       "      <th>1</th>\n",
       "      <td>-11.307006</td>\n",
       "      <td>-49.285583</td>\n",
       "      <td>0.0</td>\n",
       "      <td>0</td>\n",
       "      <td>85</td>\n",
       "      <td>0</td>\n",
       "      <td>0.0</td>\n",
       "      <td>0.0</td>\n",
       "      <td>1.0</td>\n",
       "      <td>1</td>\n",
       "    </tr>\n",
       "    <tr>\n",
       "      <th>2</th>\n",
       "      <td>-24.167963</td>\n",
       "      <td>13.800852</td>\n",
       "      <td>0.0</td>\n",
       "      <td>0</td>\n",
       "      <td>85</td>\n",
       "      <td>0</td>\n",
       "      <td>0.0</td>\n",
       "      <td>0.0</td>\n",
       "      <td>1.0</td>\n",
       "      <td>1</td>\n",
       "    </tr>\n",
       "    <tr>\n",
       "      <th>3</th>\n",
       "      <td>-13.036241</td>\n",
       "      <td>12.990661</td>\n",
       "      <td>0.0</td>\n",
       "      <td>0</td>\n",
       "      <td>85</td>\n",
       "      <td>0</td>\n",
       "      <td>0.0</td>\n",
       "      <td>0.0</td>\n",
       "      <td>1.0</td>\n",
       "      <td>1</td>\n",
       "    </tr>\n",
       "    <tr>\n",
       "      <th>4</th>\n",
       "      <td>-15.107207</td>\n",
       "      <td>28.200556</td>\n",
       "      <td>0.0</td>\n",
       "      <td>0</td>\n",
       "      <td>85</td>\n",
       "      <td>0</td>\n",
       "      <td>0.0</td>\n",
       "      <td>0.0</td>\n",
       "      <td>1.0</td>\n",
       "      <td>1</td>\n",
       "    </tr>\n",
       "  </tbody>\n",
       "</table>\n",
       "</div>"
      ],
      "text/plain": [
       "           x          y    z  red  green  blue   nx   ny   nz  is_plane\n",
       "0  -7.815987   1.294691  0.0    0     28     0  0.0  0.0  1.0         1\n",
       "1 -11.307006 -49.285583  0.0    0     85     0  0.0  0.0  1.0         1\n",
       "2 -24.167963  13.800852  0.0    0     85     0  0.0  0.0  1.0         1\n",
       "3 -13.036241  12.990661  0.0    0     85     0  0.0  0.0  1.0         1\n",
       "4 -15.107207  28.200556  0.0    0     85     0  0.0  0.0  1.0         1"
      ]
     },
     "execution_count": 27,
     "metadata": {},
     "output_type": "execute_result"
    }
   ],
   "source": [
    "scene.points.head()"
   ]
  },
  {
   "cell_type": "code",
   "execution_count": 28,
   "metadata": {},
   "outputs": [
    {
     "name": "stdout",
     "output_type": "stream",
     "text": [
      "Help on function plot in module pyntcloud.core_class:\n",
      "\n",
      "plot(self, mesh=False, point_size=0.3, opacity=0.9, use_as_color=['red', 'green', 'blue'], cmap='hsv', output_name='pyntcloud_plot', width=800, height=500, lines=[], line_color='0xFF0000')\n",
      "    Visualize PyntCloud in a Jupyter notebook using three.js.\n",
      "    \n",
      "    Parameters\n",
      "    ----------\n",
      "    point_size: float, optional\n",
      "        Default: 0.3\n",
      "        Size of the plotted points.\n",
      "    \n",
      "    opacity: float, optional\n",
      "        Default: 0.9\n",
      "        Opacity of the plotted points.\n",
      "    \n",
      "    use_as_color: str or [\"red\", \"green\", \"blue\"], optional\n",
      "        Default: [\"red\", \"green\", \"blue\"]\n",
      "        Indicates wich scalar fields will be used to colorize the rendered\n",
      "        point cloud.\n",
      "    \n",
      "    cmap: str, optional\n",
      "        Default: \"hsv\"\n",
      "        Color map that will be used to convert a single scalar field into rgb.\n",
      "        Check matplotlib cmaps.\n",
      "    \n",
      "    output_name: str, optional\n",
      "        Default: \"pyntcloud_plot\"\n",
      "        Base filename that will be used to create:\n",
      "            output_name.html\n",
      "            output_name.ply\n",
      "            output_name.json\n",
      "    \n",
      "    width: int, optional\n",
      "        Default: 800\n",
      "        Adjusts the size of the IFrame plotted in Jupyter notebook.\n",
      "    \n",
      "    height: int, optional\n",
      "        Default: 500\n",
      "        Adjusts the size of the IFrame plotted in Jupyter notebook.\n",
      "    \n",
      "    lines: ndarray | list, optional\n",
      "        Expects either a numpy array or a list of lists.\n",
      "        It is indexed: line, point on line, xyz,\n",
      "        and may be ragged in the second dimension.\n",
      "        Thus [[[0, 0, 0], [1, 0, 1], [1, 1, 1]]] is a valid argument containing\n",
      "        one line composed  of three points.\n",
      "    \n",
      "    line_color int | string | Iterable<int|string>, optional\n",
      "        The hex color of all lines to be drawn, or the hex color of\n",
      "        each line to be drawn.\n",
      "        Valid values include:\n",
      "            \"0xFF00FF\"\n",
      "            0xFF00FF\n",
      "            7\n",
      "            \"0\"\n",
      "            [0xFF00FF, 0x777777] # Provided len(lines) == 2\n",
      "    \n",
      "    Returns\n",
      "    -------\n",
      "    Ipython.display.IFrame\n",
      "        output_name.html inside an IFrame\n",
      "    \n",
      "    Notes\n",
      "    -----\n",
      "    You can visualize the output_name.html outside the notebook as a regular\n",
      "    html. You might need to run a local server or adjust the browser privacy\n",
      "    policies in order to allow javascript to load local files.\n",
      "\n"
     ]
    }
   ],
   "source": [
    "help(PyntCloud.plot)"
   ]
  },
  {
   "cell_type": "code",
   "execution_count": null,
   "metadata": {
    "collapsed": true
   },
   "outputs": [],
   "source": []
  }
 ],
 "metadata": {
  "kernelspec": {
   "display_name": "Python 3",
   "language": "python",
   "name": "python3"
  },
  "language_info": {
   "codemirror_mode": {
    "name": "ipython",
    "version": 3
   },
   "file_extension": ".py",
   "mimetype": "text/x-python",
   "name": "python",
   "nbconvert_exporter": "python",
   "pygments_lexer": "ipython3",
   "version": "3.5.2"
  }
 },
 "nbformat": 4,
 "nbformat_minor": 2
}
