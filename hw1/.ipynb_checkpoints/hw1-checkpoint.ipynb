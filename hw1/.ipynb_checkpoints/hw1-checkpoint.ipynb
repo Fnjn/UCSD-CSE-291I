{
 "cells": [
  {
   "cell_type": "code",
   "execution_count": 1,
   "metadata": {
    "collapsed": true
   },
   "outputs": [],
   "source": [
    "import numpy as np\n",
    "import tensorflow as tf\n",
    "%matplotlib inline\n",
    "import matplotlib.pyplot as plt"
   ]
  },
  {
   "cell_type": "code",
   "execution_count": 1,
   "metadata": {},
   "outputs": [
    {
     "name": "stdout",
     "output_type": "stream",
     "text": [
      "Extracting MNIST_data/train-images-idx3-ubyte.gz\n",
      "Extracting MNIST_data/train-labels-idx1-ubyte.gz\n",
      "Extracting MNIST_data/t10k-images-idx3-ubyte.gz\n",
      "Extracting MNIST_data/t10k-labels-idx1-ubyte.gz\n"
     ]
    }
   ],
   "source": [
    "from tensorflow.examples.tutorials.mnist import input_data\n",
    "mnist = input_data.read_data_sets(\"MNIST_data/\", one_hot=True)"
   ]
  },
  {
   "cell_type": "code",
   "execution_count": 3,
   "metadata": {},
   "outputs": [
    {
     "data": {
      "image/png": "[encoded data removed]",
      "text/plain": [
       "<matplotlib.figure.Figure at 0x7fca83db16d8>"
      ]
     },
     "metadata": {},
     "output_type": "display_data"
    },
    {
     "name": "stdout",
     "output_type": "stream",
     "text": [
      "[ 0.  0.  0.  0.  0.  0.  0.  1.  0.  0.]\n"
     ]
    }
   ],
   "source": [
    "plt.gray()\n",
    "plt.imshow(mnist.train.images[0].reshape(28, 28))\n",
    "plt.show()\n",
    "print(mnist.train.labels[0])"
   ]
  },
  {
   "cell_type": "code",
   "execution_count": 4,
   "metadata": {
    "collapsed": true
   },
   "outputs": [],
   "source": [
    "def create_batch(X, Y, batch_size):\n",
    "    m = X.shape[-1]\n",
    "    n_batch = int(m / batch_size)\n",
    "\n",
    "    X_batches = []\n",
    "    Y_batches = []\n",
    "\n",
    "    permutation = np.random.permutation(m)\n",
    "    X_shuffle = X[:, permutation]\n",
    "    Y_shuffle = Y[:, permutation]\n",
    "\n",
    "    for i in range(n_batch):\n",
    "        X_batch = X_shuffle[:, i * batch_size: (i+1) * batch_size]\n",
    "        Y_batch = Y_shuffle[:, i * batch_size: (i+1) * batch_size]\n",
    "        X_batches.append(X_batch)\n",
    "        Y_batches.append(Y_batch)\n",
    "\n",
    "    if m % n_batch != 0:\n",
    "        X_batch = X_shuffle[:, n_batch * batch_size:]\n",
    "        Y_batch = Y_shuffle[:, n_batch * batch_size:]\n",
    "        X_batches.append(X_batch)\n",
    "        Y_batches.append(Y_batch)\n",
    "        n_batch += 1\n",
    "\n",
    "    return X_batches, Y_batches, n_batch\n",
    "\n",
    "def plot_cost(cost):\n",
    "    fig1 = plt.figure()\n",
    "    ax1 = fig1.add_subplot(111)\n",
    "    tc_plt, = ax1.plot(cost, label='Cost Graph')\n",
    "    ax1.legend(handles=[tc_plt])\n",
    "    plt.show()"
   ]
  },
  {
   "cell_type": "code",
   "execution_count": 9,
   "metadata": {
    "collapsed": true
   },
   "outputs": [],
   "source": [
    "with tf.device('/device:GPU:0'):\n",
    "    x = tf.placeholder(tf.float32, shape=[None, 784], name='x')\n",
    "    y = tf.placeholder(tf.float32, shape=[None, 10], name='y')\n",
    "    \n",
    "    a1 = tf.contrib.layers.fully_connected(x, 300, weights_initializer=tf.contrib.layers.xavier_initializer(),\\\n",
    "                                       biases_initializer=tf.zeros_initializer(), weights_regularizer=tf.contrib.layers.l2_regularizer(0.01))\n",
    "\n",
    "    a2 = tf.contrib.layers.fully_connected(a1, 100, weights_initializer=tf.contrib.layers.xavier_initializer(),\\\n",
    "                                           biases_initializer=tf.zeros_initializer(), weights_regularizer=tf.contrib.layers.l2_regularizer(0.01))\n",
    "\n",
    "    o = tf.contrib.layers.fully_connected(a2, 10, activation_fn=tf.nn.sigmoid, weights_initializer=tf.contrib.layers.xavier_initializer(),\\\n",
    "                                           biases_initializer=tf.zeros_initializer(), weights_regularizer=tf.contrib.layers.l2_regularizer(0.01))\n",
    "\n",
    "    cost = tf.reduce_mean(tf.nn.softmax_cross_entropy_with_logits(labels=y, logits=o))\n",
    "    optimizer = tf.train.AdamOptimizer().minimize(cost)\n",
    "\n",
    "    correct_prediction = tf.equal(tf.argmax(o, axis=1), tf.argmax(y, axis=1))\n",
    "    accuracy = tf.reduce_mean(tf.cast(correct_prediction, tf.float32))"
   ]
  },
  {
   "cell_type": "code",
   "execution_count": 10,
   "metadata": {},
   "outputs": [
    {
     "name": "stdout",
     "output_type": "stream",
     "text": [
      "3 fully connected layers\n",
      "test accuracy: 0.9722\n"
     ]
    },
    {
     "data": {
      "image/png": "[encoded data removed]",
      "text/plain": [
       "<matplotlib.figure.Figure at 0x7fca7b7340b8>"
      ]
     },
     "metadata": {},
     "output_type": "display_data"
    }
   ],
   "source": [
    "epoch = 50\n",
    "cost_cache = []\n",
    "config = tf.ConfigProto()\n",
    "config.gpu_options.allow_growth = True\n",
    "with tf.Session(config=config) as sess:\n",
    "    sess.run(tf.global_variables_initializer())\n",
    "    for i in range(epoch):\n",
    "        X_batches, Y_batches, n_batch = create_batch(train_images.T, mnist.train.labels.T, batch_size=128)\n",
    "        \n",
    "        for j in range(n_batch):\n",
    "            _, batch_cost = sess.run([optimizer, cost], feed_dict = {x:X_batches[j].T, y:Y_batches[j].T})\n",
    "            \n",
    "        cost_cache.append(batch_cost)\n",
    "    \n",
    "    print('3 fully connected layers')\n",
    "    #print('train accuracy:', accuracy.eval(feed_dict={x:mnist.train.images, y:mnist.train.labels}))\n",
    "    print('test accuracy:', accuracy.eval(feed_dict={x:test_images, y:mnist.test.labels}))\n",
    "    plot_cost(cost_cache)"
   ]
  },
  {
   "cell_type": "code",
   "execution_count": 11,
   "metadata": {
    "collapsed": true
   },
   "outputs": [],
   "source": [
    "with tf.device('/device:GPU:0'):\n",
    "    x = tf.placeholder(tf.float32, shape=[None, 784], name='x')\n",
    "    y = tf.placeholder(tf.float32, shape=[None, 10], name='y')\n",
    "    \n",
    "    a1 = tf.contrib.layers.fully_connected(x, 300, weights_initializer=tf.contrib.layers.xavier_initializer(),\\\n",
    "                                       biases_initializer=tf.zeros_initializer(), weights_regularizer=tf.contrib.layers.l2_regularizer(0.01))\n",
    "    bn1 = tf.contrib.layers.batch_norm(a1)\n",
    "\n",
    "    a2 = tf.contrib.layers.fully_connected(bn1, 100, weights_initializer=tf.contrib.layers.xavier_initializer(),\\\n",
    "                                           biases_initializer=tf.zeros_initializer(), weights_regularizer=tf.contrib.layers.l2_regularizer(0.01))\n",
    "    bn2 = tf.contrib.layers.batch_norm(a2)\n",
    "\n",
    "    o = tf.contrib.layers.fully_connected(bn2, 10, activation_fn=tf.nn.sigmoid, weights_initializer=tf.contrib.layers.xavier_initializer(),\\\n",
    "                                           biases_initializer=tf.zeros_initializer(), weights_regularizer=tf.contrib.layers.l2_regularizer(0.01))\n",
    "\n",
    "    cost = tf.reduce_mean(tf.nn.softmax_cross_entropy_with_logits(labels=y, logits=o))\n",
    "    optimizer = tf.train.AdamOptimizer().minimize(cost)\n",
    "\n",
    "    correct_prediction = tf.equal(tf.argmax(o, axis=1), tf.argmax(y, axis=1))\n",
    "    accuracy = tf.reduce_mean(tf.cast(correct_prediction, tf.float32))"
   ]
  },
  {
   "cell_type": "code",
   "execution_count": 12,
   "metadata": {},
   "outputs": [
    {
     "name": "stdout",
     "output_type": "stream",
     "text": [
      "3 fully connected layers with batch norm\n",
      "test accuracy: 0.9822\n"
     ]
    },
    {
     "data": {
      "image/png": "[encoded data removed]",
      "text/plain": [
       "<matplotlib.figure.Figure at 0x7fca7b737f98>"
      ]
     },
     "metadata": {},
     "output_type": "display_data"
    }
   ],
   "source": [
    "epoch = 50\n",
    "cost_cache = []\n",
    "config = tf.ConfigProto()\n",
    "config.gpu_options.allow_growth = True\n",
    "with tf.Session(config=config) as sess:\n",
    "    sess.run(tf.global_variables_initializer())\n",
    "    for i in range(epoch):\n",
    "        X_batches, Y_batches, n_batch = create_batch(mnist.train.images.T, mnist.train.labels.T, batch_size=64)\n",
    "        \n",
    "        for j in range(n_batch):\n",
    "            _, batch_cost = sess.run([optimizer, cost], feed_dict = {x:X_batches[j].T, y:Y_batches[j].T})\n",
    "        cost_cache.append(batch_cost)\n",
    "    \n",
    "    print('3 fully connected layers with batch norm')\n",
    "    #print('train accuracy:', accuracy.eval(feed_dict={x:mnist.train.images, y:mnist.train.labels}))\n",
    "    print('test accuracy:', accuracy.eval(feed_dict={x:mnist.test.images, y:mnist.test.labels}))\n",
    "    plot_cost(cost_cache)"
   ]
  },
  {
   "cell_type": "markdown",
   "metadata": {},
   "source": [
    "### How and why batch normalization helped.\n",
    "In my experiment, I implement 3 fully connected layers neural network. I add batch norm after each layer, except the last softmax layer. The result shows that batch norm helps to increase accuracy by 1 percent(97.22% w/o BN vs 98.22% with BN).\n",
    "Batch normalization set every hidden layer value to mean zero and variance one. Batch norm helps the network do better on dealing with 'coveriate shift', reducing the amount of value shifting. In addition, it helps to prevent weights grows extremely large in later layers. It also have slightly regularization effect because it add noise to each hidden layer's activision value."
   ]
  },
  {
   "cell_type": "code",
   "execution_count": 13,
   "metadata": {
    "collapsed": true
   },
   "outputs": [],
   "source": [
    "with tf.device('/device:GPU:0'):\n",
    "    x = tf.placeholder(tf.float32, shape=[None, 784], name='x')\n",
    "    y = tf.placeholder(tf.float32, shape=[None, 10], name='y')\n",
    "    \n",
    "    x_image = tf.reshape(x, [-1, 28, 28, 1])\n",
    "    \n",
    "    w_conv1 = tf.get_variable('w_conv1', shape=[3,3,1,16], initializer=tf.contrib.layers.xavier_initializer())\n",
    "    b_conv1 = tf.get_variable('b_conv1', shape=[16], initializer=tf.zeros_initializer())\n",
    "    \n",
    "    w_conv2 = tf.get_variable('w_conv2', shape=[3,3,16,32], initializer=tf.contrib.layers.xavier_initializer())\n",
    "    b_conv2 = tf.get_variable('b_conv2', shape=[32], initializer=tf.zeros_initializer())\n",
    "    \n",
    "    w_fc1 = tf.get_variable('w_fc1', shape=[6*6*32, 512], initializer=tf.contrib.layers.xavier_initializer())\n",
    "    b_fc1 = tf.get_variable('b_fc1', shape=[512], initializer=tf.zeros_initializer())\n",
    "    \n",
    "    w_fc2 = tf.get_variable('w_fc2', shape=[512, 10], initializer=tf.contrib.layers.xavier_initializer())\n",
    "    b_fc2 = tf.get_variable('b_fc2', shape=[10], initializer=tf.zeros_initializer())\n",
    "    \n",
    "    \n",
    "    h_conv1 = tf.nn.relu(tf.nn.conv2d(x_image, w_conv1, strides=[1, 1, 1, 1], padding='SAME') + b_conv1)\n",
    "    h_pool1 = tf.nn.max_pool(h_conv1, ksize=[1,3,3,1], strides=[1,2,2,1], padding='VALID')\n",
    "    \n",
    "    h_conv2 = tf.nn.relu(tf.nn.conv2d(h_pool1, w_conv2, strides=[1, 1, 1, 1], padding='SAME') + b_conv2)\n",
    "    h_pool2 = tf.nn.max_pool(h_conv2, ksize=[1,3,3,1], strides=[1,2,2,1], padding='VALID')\n",
    "    \n",
    "    h_pool2_flat = tf.reshape(h_pool2, [-1, 6*6*32])\n",
    "    h_fc1 = tf.nn.relu(tf.matmul(h_pool2_flat, w_fc1) + b_fc1)\n",
    "    \n",
    "    y_conv = tf.matmul(h_fc1, w_fc2) + b_fc2\n",
    "    \n",
    "    cost = tf.reduce_mean(tf.nn.softmax_cross_entropy_with_logits(labels=y, logits=y_conv))\n",
    "    optimizer = tf.train.AdamOptimizer().minimize(cost)\n",
    "    \n",
    "    correct_prediction = tf.equal(tf.argmax(y_conv, axis=1), tf.argmax(y, axis=1))\n",
    "    accuracy = tf.reduce_mean(tf.cast(correct_prediction, tf.float32))\n"
   ]
  },
  {
   "cell_type": "code",
   "execution_count": 15,
   "metadata": {},
   "outputs": [
    {
     "name": "stdout",
     "output_type": "stream",
     "text": [
      "CNN: 2 conv layers 1 fully connected layers\n",
      "test accuracy: 0.9929\n"
     ]
    },
    {
     "data": {
      "image/png": "[encoded data removed]",
      "text/plain": [
       "<matplotlib.figure.Figure at 0x7fca7700bf98>"
      ]
     },
     "metadata": {},
     "output_type": "display_data"
    }
   ],
   "source": [
    "epoch = 50\n",
    "cost_cache = []\n",
    "config = tf.ConfigProto()\n",
    "config.gpu_options.allow_growth = True\n",
    "with tf.Session(config=config) as sess:\n",
    "    sess.run(tf.global_variables_initializer())\n",
    "    for i in range(epoch):\n",
    "        X_batches, Y_batches, n_batch = create_batch(mnist.train.images.T, mnist.train.labels.T, batch_size=64)\n",
    "        \n",
    "        for j in range(n_batch):\n",
    "            _, batch_cost = sess.run([optimizer, cost], feed_dict = {x:X_batches[j].T, y:Y_batches[j].T})\n",
    "            \n",
    "        cost_cache.append(batch_cost)\n",
    "    \n",
    "    print('CNN: 2 conv layers 1 fully connected layers')\n",
    "    print('test accuracy:', accuracy.eval(feed_dict={x:mnist.test.images, y:mnist.test.labels}))\n",
    "    plot_cost(cost_cache)"
   ]
  },
  {
   "cell_type": "code",
   "execution_count": 17,
   "metadata": {
    "collapsed": true
   },
   "outputs": [],
   "source": [
    "with tf.device('/device:GPU:0'):\n",
    "    x = tf.placeholder(tf.float32, shape=[None, 784], name='x')\n",
    "    y = tf.placeholder(tf.float32, shape=[None, 10], name='y')\n",
    "    \n",
    "    x_image = tf.reshape(x, [-1, 28, 28, 1])\n",
    "    \n",
    "    \n",
    "    h_conv1 = tf.nn.relu(tf.nn.conv2d(x_image, w_conv1, strides=[1, 1, 1, 1], padding='SAME') + b_conv1)\n",
    "    h_pool1 = tf.nn.max_pool(h_conv1, ksize=[1,3,3,1], strides=[1,2,2,1], padding='VALID')\n",
    "    \n",
    "    bn1 = tf.contrib.layers.batch_norm(h_pool1)\n",
    "    \n",
    "    h_conv2 = tf.nn.relu(tf.nn.conv2d(bn1, w_conv2, strides=[1, 1, 1, 1], padding='SAME') + b_conv2)\n",
    "    h_pool2 = tf.nn.max_pool(h_conv2, ksize=[1,3,3,1], strides=[1,2,2,1], padding='VALID')\n",
    "    \n",
    "    bn2 = tf.contrib.layers.batch_norm(h_pool2)\n",
    "    \n",
    "    h_pool2_flat = tf.reshape(bn2, [-1, 6*6*32])\n",
    "    h_fc1 = tf.nn.relu(tf.matmul(h_pool2_flat, w_fc1) + b_fc1)\n",
    "    \n",
    "    y_conv = tf.matmul(h_fc1, w_fc2) + b_fc2\n",
    "    \n",
    "    cost = tf.reduce_mean(tf.nn.softmax_cross_entropy_with_logits(labels=y, logits=y_conv))\n",
    "    optimizer = tf.train.AdamOptimizer().minimize(cost)\n",
    "    \n",
    "    correct_prediction = tf.equal(tf.argmax(y_conv, axis=1), tf.argmax(y, axis=1))\n",
    "    accuracy = tf.reduce_mean(tf.cast(correct_prediction, tf.float32))"
   ]
  },
  {
   "cell_type": "code",
   "execution_count": 19,
   "metadata": {},
   "outputs": [
    {
     "name": "stdout",
     "output_type": "stream",
     "text": [
      "CNN: 2 conv layers 1 fully connected layers with batch norm\n",
      "test accuracy: 0.9925\n"
     ]
    },
    {
     "data": {
      "image/png": "[encoded data removed]",
      "text/plain": [
       "<matplotlib.figure.Figure at 0x7fca58ae8da0>"
      ]
     },
     "metadata": {},
     "output_type": "display_data"
    }
   ],
   "source": [
    "epoch = 50\n",
    "cost_cache = []\n",
    "config = tf.ConfigProto()\n",
    "config.gpu_options.allow_growth = True\n",
    "with tf.Session(config=config) as sess:\n",
    "    sess.run(tf.global_variables_initializer())\n",
    "    for i in range(epoch):\n",
    "        X_batches, Y_batches, n_batch = create_batch(mnist.train.images.T, mnist.train.labels.T, batch_size=64)\n",
    "        \n",
    "        for j in range(n_batch):\n",
    "            _, batch_cost = sess.run([optimizer, cost], feed_dict = {x:X_batches[j].T, y:Y_batches[j].T})\n",
    "            \n",
    "        cost_cache.append(batch_cost)\n",
    "    \n",
    "    print('CNN: 2 conv layers 1 fully connected layers with batch norm')\n",
    "    print('test accuracy:', accuracy.eval(feed_dict={x:mnist.test.images, y:mnist.test.labels}))\n",
    "    plot_cost(cost_cache)"
   ]
  },
  {
   "cell_type": "markdown",
   "metadata": {},
   "source": [
    "### How and why batch normalization helped.\n",
    "In my experiment, I implement CNN with 2 conv layers and 1 fully connnected layer. I add batch norm layer after each conv layer. However, my result shows that batch norm doesn't really help(99.29% w/o BN vs 99.25% with BN). Possible explanation is that, the benefits of batch norm is not significant in shallow neural networks, it usually works better in deep neural networks. Also, even without batch norm, the accuracy has been so high(99.29%), batch norm layers actually add noise and make the prediction slightly worst.\n",
    "\n",
    "Theoretically, Batch normalization set every hidden layer value to mean zero and variance one. Batch norm helps the network do better on dealing with 'coveriate shift', reducing the amount of value shifting. In addition, it helps to prevent weights grows extremely large in later layers. It also have slightly regularization effect because, it add noise to each hidden layer's activision value."
   ]
  },
  {
   "cell_type": "code",
   "execution_count": null,
   "metadata": {
    "collapsed": true
   },
   "outputs": [],
   "source": []
  }
 ],
 "metadata": {
  "kernelspec": {
   "display_name": "Python 3",
   "language": "python",
   "name": "python3"
  },
  "language_info": {
   "codemirror_mode": {
    "name": "ipython",
    "version": 3
   },
   "file_extension": ".py",
   "mimetype": "text/x-python",
   "name": "python",
   "nbconvert_exporter": "python",
   "pygments_lexer": "ipython3",
   "version": "3.5.2"
  }
 },
 "nbformat": 4,
 "nbformat_minor": 2
}
